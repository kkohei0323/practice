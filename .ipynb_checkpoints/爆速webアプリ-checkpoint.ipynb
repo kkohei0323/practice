{
 "cells": [
  {
   "cell_type": "markdown",
   "id": "cba37fe0",
   "metadata": {},
   "source": [
    "爆速で５つのpythonwebアプリを開発"
   ]
  },
  {
   "cell_type": "markdown",
   "id": "eaad1343",
   "metadata": {},
   "source": [
    "# 【webフレームワーク】\n",
    "python代表的なwebフレームワーク\\\n",
    "- diango：本格的\n",
    "- flask：簡単な\n",
    "- fastAPI：高速なAPI構築\n",
    "- Dash：可視化に特化\n",
    "- Streamlit\n",
    "\n",
    "### Streamlitの特徴\n",
    "- 機械学習やデータサイエンスに最適\n",
    "　HTML/Cssコード不要"
   ]
  },
  {
   "cell_type": "code",
   "execution_count": null,
   "id": "e5fb83d6",
   "metadata": {
    "tags": []
   },
   "outputs": [],
   "source": []
  },
  {
   "cell_type": "code",
   "execution_count": null,
   "id": "6add38f4",
   "metadata": {},
   "outputs": [],
   "source": []
  },
  {
   "cell_type": "code",
   "execution_count": 1,
   "id": "391e6671",
   "metadata": {},
   "outputs": [
    {
     "ename": "SyntaxError",
     "evalue": "invalid syntax (Temp/ipykernel_14160/1028567869.py, line 1)",
     "output_type": "error",
     "traceback": [
      "\u001b[1;36m  File \u001b[1;32m\"C:\\Users\\user-pc\\AppData\\Local\\Temp/ipykernel_14160/1028567869.py\"\u001b[1;36m, line \u001b[1;32m1\u001b[0m\n\u001b[1;33m    conda create -n jupyter_test python=3\u001b[0m\n\u001b[1;37m          ^\u001b[0m\n\u001b[1;31mSyntaxError\u001b[0m\u001b[1;31m:\u001b[0m invalid syntax\n"
     ]
    }
   ],
   "source": []
  },
  {
   "cell_type": "code",
   "execution_count": null,
   "id": "2cae03c7",
   "metadata": {},
   "outputs": [],
   "source": []
  }
 ],
 "metadata": {
  "kernelspec": {
   "display_name": "Python 3 (ipykernel)",
   "language": "python",
   "name": "python3"
  },
  "language_info": {
   "codemirror_mode": {
    "name": "ipython",
    "version": 3
   },
   "file_extension": ".py",
   "mimetype": "text/x-python",
   "name": "python",
   "nbconvert_exporter": "python",
   "pygments_lexer": "ipython3",
   "version": "3.8.12"
  }
 },
 "nbformat": 4,
 "nbformat_minor": 5
}

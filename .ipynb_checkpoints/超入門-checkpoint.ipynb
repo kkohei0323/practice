{
 "cells": [
  {
   "cell_type": "markdown",
   "id": "ca6b1f5d",
   "metadata": {},
   "source": [
    "四則演算"
   ]
  },
  {
   "cell_type": "code",
   "execution_count": null,
   "id": "ad19c738-d6c7-4034-a6ec-3be13efc1091",
   "metadata": {},
   "outputs": [],
   "source": []
  },
  {
   "cell_type": "code",
   "execution_count": 1,
   "id": "2da4cd46",
   "metadata": {},
   "outputs": [
    {
     "data": {
      "text/plain": [
       "108.0"
      ]
     },
     "execution_count": 1,
     "metadata": {},
     "output_type": "execute_result"
    }
   ],
   "source": [
    "1.08*100"
   ]
  },
  {
   "cell_type": "code",
   "execution_count": 2,
   "id": "b8bdf745",
   "metadata": {},
   "outputs": [
    {
     "data": {
      "text/plain": [
       "18.0"
      ]
     },
     "execution_count": 2,
     "metadata": {},
     "output_type": "execute_result"
    }
   ],
   "source": [
    "1800/100"
   ]
  },
  {
   "cell_type": "code",
   "execution_count": 3,
   "id": "c57cfb9c",
   "metadata": {},
   "outputs": [
    {
     "data": {
      "text/plain": [
       "0"
      ]
     },
     "execution_count": 3,
     "metadata": {},
     "output_type": "execute_result"
    }
   ],
   "source": [
    "10%5"
   ]
  },
  {
   "cell_type": "code",
   "execution_count": 4,
   "id": "1f55e821",
   "metadata": {},
   "outputs": [
    {
     "data": {
      "text/plain": [
       "2"
      ]
     },
     "execution_count": 4,
     "metadata": {},
     "output_type": "execute_result"
    }
   ],
   "source": [
    "10%8"
   ]
  },
  {
   "cell_type": "code",
   "execution_count": 6,
   "id": "b560c565",
   "metadata": {},
   "outputs": [
    {
     "data": {
      "text/plain": [
       "8"
      ]
     },
     "execution_count": 6,
     "metadata": {},
     "output_type": "execute_result"
    }
   ],
   "source": [
    "##べき乗\n",
    "2**3"
   ]
  },
  {
   "cell_type": "markdown",
   "id": "761c521b",
   "metadata": {},
   "source": [
    "変数"
   ]
  },
  {
   "cell_type": "code",
   "execution_count": 7,
   "id": "a157ec49",
   "metadata": {},
   "outputs": [],
   "source": [
    "a = 3"
   ]
  },
  {
   "cell_type": "code",
   "execution_count": 8,
   "id": "0e366fd9",
   "metadata": {},
   "outputs": [
    {
     "data": {
      "text/plain": [
       "3"
      ]
     },
     "execution_count": 8,
     "metadata": {},
     "output_type": "execute_result"
    }
   ],
   "source": [
    "a"
   ]
  },
  {
   "cell_type": "code",
   "execution_count": 9,
   "id": "beccceed",
   "metadata": {},
   "outputs": [],
   "source": [
    "b=5"
   ]
  },
  {
   "cell_type": "code",
   "execution_count": 10,
   "id": "5190c5a8",
   "metadata": {},
   "outputs": [
    {
     "data": {
      "text/plain": [
       "5"
      ]
     },
     "execution_count": 10,
     "metadata": {},
     "output_type": "execute_result"
    }
   ],
   "source": [
    "b"
   ]
  },
  {
   "cell_type": "code",
   "execution_count": 12,
   "id": "c598b718",
   "metadata": {},
   "outputs": [],
   "source": [
    "b=20"
   ]
  },
  {
   "cell_type": "code",
   "execution_count": 13,
   "id": "8130a722",
   "metadata": {},
   "outputs": [
    {
     "data": {
      "text/plain": [
       "20"
      ]
     },
     "execution_count": 13,
     "metadata": {},
     "output_type": "execute_result"
    }
   ],
   "source": [
    "b"
   ]
  },
  {
   "cell_type": "code",
   "execution_count": 14,
   "id": "eeb65405",
   "metadata": {},
   "outputs": [],
   "source": [
    "price = 100"
   ]
  },
  {
   "cell_type": "code",
   "execution_count": 15,
   "id": "fd6476b1",
   "metadata": {},
   "outputs": [
    {
     "data": {
      "text/plain": [
       "100"
      ]
     },
     "execution_count": 15,
     "metadata": {},
     "output_type": "execute_result"
    }
   ],
   "source": [
    "price"
   ]
  },
  {
   "cell_type": "code",
   "execution_count": 16,
   "id": "a1738ea5",
   "metadata": {},
   "outputs": [],
   "source": [
    "tax=0.1"
   ]
  },
  {
   "cell_type": "code",
   "execution_count": 17,
   "id": "38452699",
   "metadata": {},
   "outputs": [
    {
     "data": {
      "text/plain": [
       "10.0"
      ]
     },
     "execution_count": 17,
     "metadata": {},
     "output_type": "execute_result"
    }
   ],
   "source": [
    "price*tax"
   ]
  },
  {
   "cell_type": "code",
   "execution_count": 18,
   "id": "b1adeae8",
   "metadata": {},
   "outputs": [
    {
     "ename": "SyntaxError",
     "evalue": "invalid syntax (<ipython-input-18-ead6f8e1cb4f>, line 1)",
     "output_type": "error",
     "traceback": [
      "\u001b[1;36m  File \u001b[1;32m\"<ipython-input-18-ead6f8e1cb4f>\"\u001b[1;36m, line \u001b[1;32m1\u001b[0m\n\u001b[1;33m    1name=1\u001b[0m\n\u001b[1;37m     ^\u001b[0m\n\u001b[1;31mSyntaxError\u001b[0m\u001b[1;31m:\u001b[0m invalid syntax\n"
     ]
    }
   ],
   "source": [
    "1name=1"
   ]
  },
  {
   "cell_type": "code",
   "execution_count": 19,
   "id": "af59185c",
   "metadata": {},
   "outputs": [],
   "source": [
    "name=1"
   ]
  },
  {
   "cell_type": "code",
   "execution_count": 20,
   "id": "2bce23da",
   "metadata": {},
   "outputs": [],
   "source": [
    "name=\"今西\""
   ]
  },
  {
   "cell_type": "code",
   "execution_count": 21,
   "id": "17e9ad8d",
   "metadata": {},
   "outputs": [
    {
     "data": {
      "text/plain": [
       "'今西'"
      ]
     },
     "execution_count": 21,
     "metadata": {},
     "output_type": "execute_result"
    }
   ],
   "source": [
    "name"
   ]
  },
  {
   "cell_type": "markdown",
   "id": "4cda78a1",
   "metadata": {
    "tags": []
   },
   "source": [
    "\n",
    "\n",
    "比較演算子"
   ]
  },
  {
   "cell_type": "code",
   "execution_count": 22,
   "id": "fe85bbd1",
   "metadata": {},
   "outputs": [
    {
     "data": {
      "text/plain": [
       "True"
      ]
     },
     "execution_count": 22,
     "metadata": {},
     "output_type": "execute_result"
    }
   ],
   "source": [
    "1<3"
   ]
  },
  {
   "cell_type": "code",
   "execution_count": 23,
   "id": "ce473c73",
   "metadata": {},
   "outputs": [
    {
     "data": {
      "text/plain": [
       "1.01"
      ]
     },
     "execution_count": 23,
     "metadata": {},
     "output_type": "execute_result"
    }
   ],
   "source": [
    "b=1.01\n",
    "b"
   ]
  },
  {
   "cell_type": "code",
   "execution_count": 24,
   "id": "cad50dce",
   "metadata": {},
   "outputs": [
    {
     "data": {
      "text/plain": [
       "float"
      ]
     },
     "execution_count": 24,
     "metadata": {},
     "output_type": "execute_result"
    }
   ],
   "source": [
    "type(b)"
   ]
  },
  {
   "cell_type": "code",
   "execution_count": 25,
   "id": "e6114474",
   "metadata": {},
   "outputs": [
    {
     "data": {
      "text/plain": [
       "'今西'"
      ]
     },
     "execution_count": 25,
     "metadata": {},
     "output_type": "execute_result"
    }
   ],
   "source": [
    "name=\"今西\"\n",
    "name"
   ]
  },
  {
   "cell_type": "code",
   "execution_count": 26,
   "id": "24549b00",
   "metadata": {},
   "outputs": [
    {
     "data": {
      "text/plain": [
       "str"
      ]
     },
     "execution_count": 26,
     "metadata": {},
     "output_type": "execute_result"
    }
   ],
   "source": [
    "type(name)"
   ]
  },
  {
   "cell_type": "code",
   "execution_count": 27,
   "id": "56748818",
   "metadata": {},
   "outputs": [
    {
     "data": {
      "text/plain": [
       "[10, 20, 30]"
      ]
     },
     "execution_count": 27,
     "metadata": {},
     "output_type": "execute_result"
    }
   ],
   "source": [
    "d=[10,20,30]\n",
    "d"
   ]
  },
  {
   "cell_type": "code",
   "execution_count": 28,
   "id": "c72463f0",
   "metadata": {},
   "outputs": [
    {
     "data": {
      "text/plain": [
       "list"
      ]
     },
     "execution_count": 28,
     "metadata": {},
     "output_type": "execute_result"
    }
   ],
   "source": [
    "type(d)"
   ]
  },
  {
   "cell_type": "markdown",
   "id": "87e7fbbb",
   "metadata": {},
   "source": [
    "関数"
   ]
  },
  {
   "cell_type": "code",
   "execution_count": 29,
   "id": "4d1c9a03",
   "metadata": {},
   "outputs": [],
   "source": [
    "def say_hello():\n",
    "    print(\"みなさんこんにちは\")"
   ]
  },
  {
   "cell_type": "code",
   "execution_count": 32,
   "id": "3e7fd6c8",
   "metadata": {},
   "outputs": [
    {
     "name": "stdout",
     "output_type": "stream",
     "text": [
      "みなさんこんにちは\n"
     ]
    }
   ],
   "source": [
    "say_hello()"
   ]
  },
  {
   "cell_type": "markdown",
   "id": "3b8e37b0",
   "metadata": {},
   "source": [
    "引数"
   ]
  },
  {
   "cell_type": "code",
   "execution_count": 34,
   "id": "7fd2360e",
   "metadata": {},
   "outputs": [],
   "source": [
    "def say_hello2(name):\n",
    "    print(f\"{name}さん、こんにちは\")"
   ]
  },
  {
   "cell_type": "code",
   "execution_count": 36,
   "id": "a5309a09",
   "metadata": {},
   "outputs": [
    {
     "name": "stdout",
     "output_type": "stream",
     "text": [
      "今西さん、こんにちは\n"
     ]
    }
   ],
   "source": [
    "say_hello2(name)"
   ]
  },
  {
   "cell_type": "code",
   "execution_count": 37,
   "id": "4eeec551",
   "metadata": {},
   "outputs": [
    {
     "name": "stdout",
     "output_type": "stream",
     "text": [
      "aaaさん、こんにちは\n"
     ]
    }
   ],
   "source": [
    "say_hello2(name=\"aaa\")"
   ]
  },
  {
   "cell_type": "markdown",
   "id": "6d7d6492",
   "metadata": {},
   "source": [
    "返り値"
   ]
  },
  {
   "cell_type": "code",
   "execution_count": 45,
   "id": "b18d56d3",
   "metadata": {},
   "outputs": [],
   "source": [
    "def calc_square(side):\n",
    "    return side*side"
   ]
  },
  {
   "cell_type": "code",
   "execution_count": 46,
   "id": "a12fd07e",
   "metadata": {},
   "outputs": [],
   "source": [
    "result = calc_square(side=10)"
   ]
  },
  {
   "cell_type": "code",
   "execution_count": 47,
   "id": "03d34da3",
   "metadata": {},
   "outputs": [
    {
     "data": {
      "text/plain": [
       "100"
      ]
     },
     "execution_count": 47,
     "metadata": {},
     "output_type": "execute_result"
    }
   ],
   "source": [
    "result"
   ]
  },
  {
   "cell_type": "code",
   "execution_count": 58,
   "id": "175bd79c",
   "metadata": {},
   "outputs": [],
   "source": [
    "def calc_tri(bottom=1,hight=1):\n",
    "    return bottom*hight/2"
   ]
  },
  {
   "cell_type": "code",
   "execution_count": 49,
   "id": "d02ae8a3",
   "metadata": {},
   "outputs": [],
   "source": [
    "result = calc_tri(bottom=10,hight=10)"
   ]
  },
  {
   "cell_type": "code",
   "execution_count": 50,
   "id": "600b5622",
   "metadata": {},
   "outputs": [
    {
     "data": {
      "text/plain": [
       "50.0"
      ]
     },
     "execution_count": 50,
     "metadata": {},
     "output_type": "execute_result"
    }
   ],
   "source": [
    "result"
   ]
  },
  {
   "cell_type": "code",
   "execution_count": 51,
   "id": "a883a543",
   "metadata": {},
   "outputs": [],
   "source": [
    "bottom=1000\n",
    "hight=1"
   ]
  },
  {
   "cell_type": "code",
   "execution_count": 52,
   "id": "a8230612",
   "metadata": {},
   "outputs": [
    {
     "data": {
      "text/plain": [
       "50.0"
      ]
     },
     "execution_count": 52,
     "metadata": {},
     "output_type": "execute_result"
    }
   ],
   "source": [
    "result"
   ]
  },
  {
   "cell_type": "code",
   "execution_count": 54,
   "id": "42ce88b8",
   "metadata": {},
   "outputs": [],
   "source": [
    "result=calc_tri(bottom,hight)"
   ]
  },
  {
   "cell_type": "code",
   "execution_count": 55,
   "id": "9f481eef",
   "metadata": {},
   "outputs": [
    {
     "data": {
      "text/plain": [
       "500.0"
      ]
     },
     "execution_count": 55,
     "metadata": {},
     "output_type": "execute_result"
    }
   ],
   "source": [
    "result"
   ]
  },
  {
   "cell_type": "code",
   "execution_count": 56,
   "id": "ee3872e9",
   "metadata": {},
   "outputs": [
    {
     "data": {
      "text/plain": [
       "500.0"
      ]
     },
     "execution_count": 56,
     "metadata": {},
     "output_type": "execute_result"
    }
   ],
   "source": [
    "calc_tri(bottom,hight)"
   ]
  },
  {
   "cell_type": "code",
   "execution_count": 57,
   "id": "dd3c3d55",
   "metadata": {},
   "outputs": [
    {
     "data": {
      "text/plain": [
       "50.0"
      ]
     },
     "execution_count": 57,
     "metadata": {},
     "output_type": "execute_result"
    }
   ],
   "source": [
    "calc_tri(10,10)"
   ]
  },
  {
   "cell_type": "code",
   "execution_count": 59,
   "id": "df295726",
   "metadata": {},
   "outputs": [
    {
     "data": {
      "text/plain": [
       "0.5"
      ]
     },
     "execution_count": 59,
     "metadata": {},
     "output_type": "execute_result"
    }
   ],
   "source": [
    "calc_tri()"
   ]
  },
  {
   "cell_type": "markdown",
   "id": "e1f3fea8",
   "metadata": {},
   "source": [
    "クラス"
   ]
  },
  {
   "cell_type": "code",
   "execution_count": 166,
   "id": "5a1398ee",
   "metadata": {},
   "outputs": [],
   "source": [
    "#クラスは頭大文字\n",
    "class Person:\n",
    "    #初期設定\n",
    "    def __init__(self, name, nationality, age):\n",
    "        self.name = name\n",
    "        self.nationality = nationality\n",
    "        self.age = age\n",
    "        \n",
    "    def __call__(self, name):\n",
    "        print(f\"call関数：{name}さん、こんにちは。私は{self.name}です\")\n",
    "        \n",
    "    def say_hello(self, name):\n",
    "        print(f\"{name}さん、こんにちは。私は{self.name}です\")\n",
    "    "
   ]
  },
  {
   "cell_type": "code",
   "execution_count": 167,
   "id": "3ff5a122",
   "metadata": {},
   "outputs": [],
   "source": [
    "#インスタンス化\n",
    "imanishi = Person(name=\"今西\",nationality=\"日本\",age=26)"
   ]
  },
  {
   "cell_type": "code",
   "execution_count": 168,
   "id": "440cabbd",
   "metadata": {},
   "outputs": [],
   "source": [
    "mike = Person(name=\"maiku\",nationality=\"amerika\",age=23)"
   ]
  },
  {
   "cell_type": "code",
   "execution_count": 169,
   "id": "91167cf6",
   "metadata": {},
   "outputs": [
    {
     "name": "stdout",
     "output_type": "stream",
     "text": [
      "satoさん、こんにちは。私は今西です\n"
     ]
    }
   ],
   "source": [
    "imanishi.say_hello(name='sato')"
   ]
  },
  {
   "cell_type": "code",
   "execution_count": 180,
   "id": "2a16dc8a",
   "metadata": {},
   "outputs": [
    {
     "name": "stdout",
     "output_type": "stream",
     "text": [
      "aaaaaaaaaaaaaさん、こんにちは。私はmaikuです\n"
     ]
    }
   ],
   "source": [
    "mike.say_hello(name)"
   ]
  },
  {
   "cell_type": "code",
   "execution_count": 181,
   "id": "30ab60f2",
   "metadata": {},
   "outputs": [
    {
     "name": "stdout",
     "output_type": "stream",
     "text": [
      "call関数：aaaaaaaaaaaaaさん、こんにちは。私は今西です\n"
     ]
    }
   ],
   "source": [
    "imanishi(name)"
   ]
  },
  {
   "cell_type": "code",
   "execution_count": 173,
   "id": "b456975a",
   "metadata": {},
   "outputs": [],
   "source": [
    "name='aaaaaaaaaaaaa'"
   ]
  },
  {
   "cell_type": "markdown",
   "id": "f96670ce",
   "metadata": {},
   "source": [
    "ライブラリ"
   ]
  },
  {
   "cell_type": "code",
   "execution_count": 1,
   "id": "6b16f6e9",
   "metadata": {},
   "outputs": [],
   "source": [
    "import datetime"
   ]
  },
  {
   "cell_type": "code",
   "execution_count": 5,
   "id": "3d0bbe82",
   "metadata": {},
   "outputs": [],
   "source": [
    "today = datetime.date.today()"
   ]
  },
  {
   "cell_type": "code",
   "execution_count": 4,
   "id": "fdd8207d",
   "metadata": {},
   "outputs": [
    {
     "data": {
      "text/plain": [
       "datetime.datetime(2021, 10, 8, 7, 55, 34, 307549)"
      ]
     },
     "execution_count": 4,
     "metadata": {},
     "output_type": "execute_result"
    }
   ],
   "source": [
    "datetime.datetime.now()"
   ]
  },
  {
   "cell_type": "code",
   "execution_count": 6,
   "id": "92dbc7c1",
   "metadata": {},
   "outputs": [
    {
     "data": {
      "text/plain": [
       "datetime.date(2021, 10, 8)"
      ]
     },
     "execution_count": 6,
     "metadata": {},
     "output_type": "execute_result"
    }
   ],
   "source": [
    "today"
   ]
  },
  {
   "cell_type": "code",
   "execution_count": 7,
   "id": "aea649a6",
   "metadata": {},
   "outputs": [
    {
     "data": {
      "text/plain": [
       "10"
      ]
     },
     "execution_count": 7,
     "metadata": {},
     "output_type": "execute_result"
    }
   ],
   "source": [
    "today.month"
   ]
  },
  {
   "cell_type": "code",
   "execution_count": 9,
   "id": "ce377ec4",
   "metadata": {},
   "outputs": [
    {
     "data": {
      "text/plain": [
       "datetime.date(2021, 10, 7)"
      ]
     },
     "execution_count": 9,
     "metadata": {},
     "output_type": "execute_result"
    }
   ],
   "source": [
    "today - datetime.timedelta(days=1)"
   ]
  },
  {
   "cell_type": "code",
   "execution_count": 13,
   "id": "ba5e6132",
   "metadata": {},
   "outputs": [
    {
     "name": "stdout",
     "output_type": "stream",
     "text": [
      "2021-10-08\n"
     ]
    }
   ],
   "source": [
    "print(today)"
   ]
  },
  {
   "cell_type": "code",
   "execution_count": 17,
   "id": "243185c4",
   "metadata": {},
   "outputs": [
    {
     "data": {
      "text/plain": [
       "'2021年10月08日'"
      ]
     },
     "execution_count": 17,
     "metadata": {},
     "output_type": "execute_result"
    }
   ],
   "source": [
    "today.strftime(\"%Y年%m月%d日\")"
   ]
  },
  {
   "cell_type": "code",
   "execution_count": 1,
   "id": "2e1efc2e",
   "metadata": {},
   "outputs": [],
   "source": [
    "import pandas as pd"
   ]
  },
  {
   "cell_type": "code",
   "execution_count": 2,
   "id": "82df0fb7",
   "metadata": {},
   "outputs": [],
   "source": [
    "df = pd.DataFrame([\n",
    "    [1,2,3],\n",
    "    [4,5,6],\n",
    "    [7,8,9]\n",
    "])"
   ]
  },
  {
   "cell_type": "code",
   "execution_count": 3,
   "id": "4264aa33",
   "metadata": {},
   "outputs": [
    {
     "data": {
      "text/html": [
       "<div>\n",
       "<style scoped>\n",
       "    .dataframe tbody tr th:only-of-type {\n",
       "        vertical-align: middle;\n",
       "    }\n",
       "\n",
       "    .dataframe tbody tr th {\n",
       "        vertical-align: top;\n",
       "    }\n",
       "\n",
       "    .dataframe thead th {\n",
       "        text-align: right;\n",
       "    }\n",
       "</style>\n",
       "<table border=\"1\" class=\"dataframe\">\n",
       "  <thead>\n",
       "    <tr style=\"text-align: right;\">\n",
       "      <th></th>\n",
       "      <th>0</th>\n",
       "      <th>1</th>\n",
       "      <th>2</th>\n",
       "    </tr>\n",
       "  </thead>\n",
       "  <tbody>\n",
       "    <tr>\n",
       "      <th>0</th>\n",
       "      <td>1</td>\n",
       "      <td>2</td>\n",
       "      <td>3</td>\n",
       "    </tr>\n",
       "    <tr>\n",
       "      <th>1</th>\n",
       "      <td>4</td>\n",
       "      <td>5</td>\n",
       "      <td>6</td>\n",
       "    </tr>\n",
       "    <tr>\n",
       "      <th>2</th>\n",
       "      <td>7</td>\n",
       "      <td>8</td>\n",
       "      <td>9</td>\n",
       "    </tr>\n",
       "  </tbody>\n",
       "</table>\n",
       "</div>"
      ],
      "text/plain": [
       "   0  1  2\n",
       "0  1  2  3\n",
       "1  4  5  6\n",
       "2  7  8  9"
      ]
     },
     "execution_count": 3,
     "metadata": {},
     "output_type": "execute_result"
    }
   ],
   "source": [
    "df"
   ]
  },
  {
   "cell_type": "code",
   "execution_count": 8,
   "id": "0860e135",
   "metadata": {},
   "outputs": [],
   "source": [
    "df = pd.read_csv('D:\\OneDrive\\98_python\\google_Colaboratory\\sample_data\\california_housing_test.csv')"
   ]
  },
  {
   "cell_type": "code",
   "execution_count": 9,
   "id": "3d91f243",
   "metadata": {},
   "outputs": [
    {
     "data": {
      "text/html": [
       "<div>\n",
       "<style scoped>\n",
       "    .dataframe tbody tr th:only-of-type {\n",
       "        vertical-align: middle;\n",
       "    }\n",
       "\n",
       "    .dataframe tbody tr th {\n",
       "        vertical-align: top;\n",
       "    }\n",
       "\n",
       "    .dataframe thead th {\n",
       "        text-align: right;\n",
       "    }\n",
       "</style>\n",
       "<table border=\"1\" class=\"dataframe\">\n",
       "  <thead>\n",
       "    <tr style=\"text-align: right;\">\n",
       "      <th></th>\n",
       "      <th>longitude</th>\n",
       "      <th>latitude</th>\n",
       "      <th>housing_median_age</th>\n",
       "      <th>total_rooms</th>\n",
       "      <th>total_bedrooms</th>\n",
       "      <th>population</th>\n",
       "      <th>households</th>\n",
       "      <th>median_income</th>\n",
       "      <th>median_house_value</th>\n",
       "    </tr>\n",
       "  </thead>\n",
       "  <tbody>\n",
       "    <tr>\n",
       "      <th>0</th>\n",
       "      <td>-122.05</td>\n",
       "      <td>37.37</td>\n",
       "      <td>27.0</td>\n",
       "      <td>3885.0</td>\n",
       "      <td>661.0</td>\n",
       "      <td>1537.0</td>\n",
       "      <td>606.0</td>\n",
       "      <td>6.6085</td>\n",
       "      <td>344700.0</td>\n",
       "    </tr>\n",
       "    <tr>\n",
       "      <th>1</th>\n",
       "      <td>-118.30</td>\n",
       "      <td>34.26</td>\n",
       "      <td>43.0</td>\n",
       "      <td>1510.0</td>\n",
       "      <td>310.0</td>\n",
       "      <td>809.0</td>\n",
       "      <td>277.0</td>\n",
       "      <td>3.5990</td>\n",
       "      <td>176500.0</td>\n",
       "    </tr>\n",
       "    <tr>\n",
       "      <th>2</th>\n",
       "      <td>-117.81</td>\n",
       "      <td>33.78</td>\n",
       "      <td>27.0</td>\n",
       "      <td>3589.0</td>\n",
       "      <td>507.0</td>\n",
       "      <td>1484.0</td>\n",
       "      <td>495.0</td>\n",
       "      <td>5.7934</td>\n",
       "      <td>270500.0</td>\n",
       "    </tr>\n",
       "    <tr>\n",
       "      <th>3</th>\n",
       "      <td>-118.36</td>\n",
       "      <td>33.82</td>\n",
       "      <td>28.0</td>\n",
       "      <td>67.0</td>\n",
       "      <td>15.0</td>\n",
       "      <td>49.0</td>\n",
       "      <td>11.0</td>\n",
       "      <td>6.1359</td>\n",
       "      <td>330000.0</td>\n",
       "    </tr>\n",
       "    <tr>\n",
       "      <th>4</th>\n",
       "      <td>-119.67</td>\n",
       "      <td>36.33</td>\n",
       "      <td>19.0</td>\n",
       "      <td>1241.0</td>\n",
       "      <td>244.0</td>\n",
       "      <td>850.0</td>\n",
       "      <td>237.0</td>\n",
       "      <td>2.9375</td>\n",
       "      <td>81700.0</td>\n",
       "    </tr>\n",
       "    <tr>\n",
       "      <th>...</th>\n",
       "      <td>...</td>\n",
       "      <td>...</td>\n",
       "      <td>...</td>\n",
       "      <td>...</td>\n",
       "      <td>...</td>\n",
       "      <td>...</td>\n",
       "      <td>...</td>\n",
       "      <td>...</td>\n",
       "      <td>...</td>\n",
       "    </tr>\n",
       "    <tr>\n",
       "      <th>2995</th>\n",
       "      <td>-119.86</td>\n",
       "      <td>34.42</td>\n",
       "      <td>23.0</td>\n",
       "      <td>1450.0</td>\n",
       "      <td>642.0</td>\n",
       "      <td>1258.0</td>\n",
       "      <td>607.0</td>\n",
       "      <td>1.1790</td>\n",
       "      <td>225000.0</td>\n",
       "    </tr>\n",
       "    <tr>\n",
       "      <th>2996</th>\n",
       "      <td>-118.14</td>\n",
       "      <td>34.06</td>\n",
       "      <td>27.0</td>\n",
       "      <td>5257.0</td>\n",
       "      <td>1082.0</td>\n",
       "      <td>3496.0</td>\n",
       "      <td>1036.0</td>\n",
       "      <td>3.3906</td>\n",
       "      <td>237200.0</td>\n",
       "    </tr>\n",
       "    <tr>\n",
       "      <th>2997</th>\n",
       "      <td>-119.70</td>\n",
       "      <td>36.30</td>\n",
       "      <td>10.0</td>\n",
       "      <td>956.0</td>\n",
       "      <td>201.0</td>\n",
       "      <td>693.0</td>\n",
       "      <td>220.0</td>\n",
       "      <td>2.2895</td>\n",
       "      <td>62000.0</td>\n",
       "    </tr>\n",
       "    <tr>\n",
       "      <th>2998</th>\n",
       "      <td>-117.12</td>\n",
       "      <td>34.10</td>\n",
       "      <td>40.0</td>\n",
       "      <td>96.0</td>\n",
       "      <td>14.0</td>\n",
       "      <td>46.0</td>\n",
       "      <td>14.0</td>\n",
       "      <td>3.2708</td>\n",
       "      <td>162500.0</td>\n",
       "    </tr>\n",
       "    <tr>\n",
       "      <th>2999</th>\n",
       "      <td>-119.63</td>\n",
       "      <td>34.42</td>\n",
       "      <td>42.0</td>\n",
       "      <td>1765.0</td>\n",
       "      <td>263.0</td>\n",
       "      <td>753.0</td>\n",
       "      <td>260.0</td>\n",
       "      <td>8.5608</td>\n",
       "      <td>500001.0</td>\n",
       "    </tr>\n",
       "  </tbody>\n",
       "</table>\n",
       "<p>3000 rows × 9 columns</p>\n",
       "</div>"
      ],
      "text/plain": [
       "      longitude  latitude  housing_median_age  total_rooms  total_bedrooms  \\\n",
       "0       -122.05     37.37                27.0       3885.0           661.0   \n",
       "1       -118.30     34.26                43.0       1510.0           310.0   \n",
       "2       -117.81     33.78                27.0       3589.0           507.0   \n",
       "3       -118.36     33.82                28.0         67.0            15.0   \n",
       "4       -119.67     36.33                19.0       1241.0           244.0   \n",
       "...         ...       ...                 ...          ...             ...   \n",
       "2995    -119.86     34.42                23.0       1450.0           642.0   \n",
       "2996    -118.14     34.06                27.0       5257.0          1082.0   \n",
       "2997    -119.70     36.30                10.0        956.0           201.0   \n",
       "2998    -117.12     34.10                40.0         96.0            14.0   \n",
       "2999    -119.63     34.42                42.0       1765.0           263.0   \n",
       "\n",
       "      population  households  median_income  median_house_value  \n",
       "0         1537.0       606.0         6.6085            344700.0  \n",
       "1          809.0       277.0         3.5990            176500.0  \n",
       "2         1484.0       495.0         5.7934            270500.0  \n",
       "3           49.0        11.0         6.1359            330000.0  \n",
       "4          850.0       237.0         2.9375             81700.0  \n",
       "...          ...         ...            ...                 ...  \n",
       "2995      1258.0       607.0         1.1790            225000.0  \n",
       "2996      3496.0      1036.0         3.3906            237200.0  \n",
       "2997       693.0       220.0         2.2895             62000.0  \n",
       "2998        46.0        14.0         3.2708            162500.0  \n",
       "2999       753.0       260.0         8.5608            500001.0  \n",
       "\n",
       "[3000 rows x 9 columns]"
      ]
     },
     "execution_count": 9,
     "metadata": {},
     "output_type": "execute_result"
    }
   ],
   "source": [
    "df"
   ]
  },
  {
   "cell_type": "code",
   "execution_count": 12,
   "id": "4d7a6119",
   "metadata": {},
   "outputs": [
    {
     "data": {
      "text/html": [
       "<div>\n",
       "<style scoped>\n",
       "    .dataframe tbody tr th:only-of-type {\n",
       "        vertical-align: middle;\n",
       "    }\n",
       "\n",
       "    .dataframe tbody tr th {\n",
       "        vertical-align: top;\n",
       "    }\n",
       "\n",
       "    .dataframe thead th {\n",
       "        text-align: right;\n",
       "    }\n",
       "</style>\n",
       "<table border=\"1\" class=\"dataframe\">\n",
       "  <thead>\n",
       "    <tr style=\"text-align: right;\">\n",
       "      <th></th>\n",
       "      <th>longitude</th>\n",
       "      <th>latitude</th>\n",
       "      <th>housing_median_age</th>\n",
       "      <th>total_rooms</th>\n",
       "      <th>total_bedrooms</th>\n",
       "      <th>population</th>\n",
       "      <th>households</th>\n",
       "      <th>median_income</th>\n",
       "      <th>median_house_value</th>\n",
       "    </tr>\n",
       "  </thead>\n",
       "  <tbody>\n",
       "    <tr>\n",
       "      <th>2997</th>\n",
       "      <td>-119.70</td>\n",
       "      <td>36.30</td>\n",
       "      <td>10.0</td>\n",
       "      <td>956.0</td>\n",
       "      <td>201.0</td>\n",
       "      <td>693.0</td>\n",
       "      <td>220.0</td>\n",
       "      <td>2.2895</td>\n",
       "      <td>62000.0</td>\n",
       "    </tr>\n",
       "    <tr>\n",
       "      <th>2998</th>\n",
       "      <td>-117.12</td>\n",
       "      <td>34.10</td>\n",
       "      <td>40.0</td>\n",
       "      <td>96.0</td>\n",
       "      <td>14.0</td>\n",
       "      <td>46.0</td>\n",
       "      <td>14.0</td>\n",
       "      <td>3.2708</td>\n",
       "      <td>162500.0</td>\n",
       "    </tr>\n",
       "    <tr>\n",
       "      <th>2999</th>\n",
       "      <td>-119.63</td>\n",
       "      <td>34.42</td>\n",
       "      <td>42.0</td>\n",
       "      <td>1765.0</td>\n",
       "      <td>263.0</td>\n",
       "      <td>753.0</td>\n",
       "      <td>260.0</td>\n",
       "      <td>8.5608</td>\n",
       "      <td>500001.0</td>\n",
       "    </tr>\n",
       "  </tbody>\n",
       "</table>\n",
       "</div>"
      ],
      "text/plain": [
       "      longitude  latitude  housing_median_age  total_rooms  total_bedrooms  \\\n",
       "2997    -119.70     36.30                10.0        956.0           201.0   \n",
       "2998    -117.12     34.10                40.0         96.0            14.0   \n",
       "2999    -119.63     34.42                42.0       1765.0           263.0   \n",
       "\n",
       "      population  households  median_income  median_house_value  \n",
       "2997       693.0       220.0         2.2895             62000.0  \n",
       "2998        46.0        14.0         3.2708            162500.0  \n",
       "2999       753.0       260.0         8.5608            500001.0  "
      ]
     },
     "execution_count": 12,
     "metadata": {},
     "output_type": "execute_result"
    }
   ],
   "source": [
    "df.tail(3)"
   ]
  },
  {
   "cell_type": "code",
   "execution_count": 16,
   "id": "e1296791",
   "metadata": {},
   "outputs": [
    {
     "data": {
      "text/html": [
       "<div>\n",
       "<style scoped>\n",
       "    .dataframe tbody tr th:only-of-type {\n",
       "        vertical-align: middle;\n",
       "    }\n",
       "\n",
       "    .dataframe tbody tr th {\n",
       "        vertical-align: top;\n",
       "    }\n",
       "\n",
       "    .dataframe thead th {\n",
       "        text-align: right;\n",
       "    }\n",
       "</style>\n",
       "<table border=\"1\" class=\"dataframe\">\n",
       "  <thead>\n",
       "    <tr style=\"text-align: right;\">\n",
       "      <th></th>\n",
       "      <th>longitude</th>\n",
       "      <th>latitude</th>\n",
       "      <th>housing_median_age</th>\n",
       "    </tr>\n",
       "  </thead>\n",
       "  <tbody>\n",
       "    <tr>\n",
       "      <th>0</th>\n",
       "      <td>-122.05</td>\n",
       "      <td>37.37</td>\n",
       "      <td>27.0</td>\n",
       "    </tr>\n",
       "    <tr>\n",
       "      <th>1</th>\n",
       "      <td>-118.30</td>\n",
       "      <td>34.26</td>\n",
       "      <td>43.0</td>\n",
       "    </tr>\n",
       "    <tr>\n",
       "      <th>2</th>\n",
       "      <td>-117.81</td>\n",
       "      <td>33.78</td>\n",
       "      <td>27.0</td>\n",
       "    </tr>\n",
       "    <tr>\n",
       "      <th>3</th>\n",
       "      <td>-118.36</td>\n",
       "      <td>33.82</td>\n",
       "      <td>28.0</td>\n",
       "    </tr>\n",
       "    <tr>\n",
       "      <th>4</th>\n",
       "      <td>-119.67</td>\n",
       "      <td>36.33</td>\n",
       "      <td>19.0</td>\n",
       "    </tr>\n",
       "  </tbody>\n",
       "</table>\n",
       "</div>"
      ],
      "text/plain": [
       "   longitude  latitude  housing_median_age\n",
       "0    -122.05     37.37                27.0\n",
       "1    -118.30     34.26                43.0\n",
       "2    -117.81     33.78                27.0\n",
       "3    -118.36     33.82                28.0\n",
       "4    -119.67     36.33                19.0"
      ]
     },
     "execution_count": 16,
     "metadata": {},
     "output_type": "execute_result"
    }
   ],
   "source": [
    "df.iloc[: , :3].head()"
   ]
  },
  {
   "cell_type": "code",
   "execution_count": 17,
   "id": "ae561a01",
   "metadata": {},
   "outputs": [
    {
     "data": {
      "text/plain": [
       "0       False\n",
       "1        True\n",
       "2       False\n",
       "3       False\n",
       "4       False\n",
       "        ...  \n",
       "2995    False\n",
       "2996    False\n",
       "2997    False\n",
       "2998     True\n",
       "2999     True\n",
       "Name: housing_median_age, Length: 3000, dtype: bool"
      ]
     },
     "execution_count": 17,
     "metadata": {},
     "output_type": "execute_result"
    }
   ],
   "source": [
    "df[\"housing_median_age\"] >30"
   ]
  },
  {
   "cell_type": "code",
   "execution_count": 18,
   "id": "7006d339",
   "metadata": {},
   "outputs": [
    {
     "data": {
      "text/html": [
       "<div>\n",
       "<style scoped>\n",
       "    .dataframe tbody tr th:only-of-type {\n",
       "        vertical-align: middle;\n",
       "    }\n",
       "\n",
       "    .dataframe tbody tr th {\n",
       "        vertical-align: top;\n",
       "    }\n",
       "\n",
       "    .dataframe thead th {\n",
       "        text-align: right;\n",
       "    }\n",
       "</style>\n",
       "<table border=\"1\" class=\"dataframe\">\n",
       "  <thead>\n",
       "    <tr style=\"text-align: right;\">\n",
       "      <th></th>\n",
       "      <th>longitude</th>\n",
       "      <th>latitude</th>\n",
       "      <th>housing_median_age</th>\n",
       "      <th>total_rooms</th>\n",
       "      <th>total_bedrooms</th>\n",
       "      <th>population</th>\n",
       "      <th>households</th>\n",
       "      <th>median_income</th>\n",
       "      <th>median_house_value</th>\n",
       "    </tr>\n",
       "  </thead>\n",
       "  <tbody>\n",
       "    <tr>\n",
       "      <th>1</th>\n",
       "      <td>-118.30</td>\n",
       "      <td>34.26</td>\n",
       "      <td>43.0</td>\n",
       "      <td>1510.0</td>\n",
       "      <td>310.0</td>\n",
       "      <td>809.0</td>\n",
       "      <td>277.0</td>\n",
       "      <td>3.5990</td>\n",
       "      <td>176500.0</td>\n",
       "    </tr>\n",
       "    <tr>\n",
       "      <th>5</th>\n",
       "      <td>-119.56</td>\n",
       "      <td>36.51</td>\n",
       "      <td>37.0</td>\n",
       "      <td>1018.0</td>\n",
       "      <td>213.0</td>\n",
       "      <td>663.0</td>\n",
       "      <td>204.0</td>\n",
       "      <td>1.6635</td>\n",
       "      <td>67000.0</td>\n",
       "    </tr>\n",
       "    <tr>\n",
       "      <th>6</th>\n",
       "      <td>-121.43</td>\n",
       "      <td>38.63</td>\n",
       "      <td>43.0</td>\n",
       "      <td>1009.0</td>\n",
       "      <td>225.0</td>\n",
       "      <td>604.0</td>\n",
       "      <td>218.0</td>\n",
       "      <td>1.6641</td>\n",
       "      <td>67000.0</td>\n",
       "    </tr>\n",
       "    <tr>\n",
       "      <th>9</th>\n",
       "      <td>-118.02</td>\n",
       "      <td>34.08</td>\n",
       "      <td>31.0</td>\n",
       "      <td>2402.0</td>\n",
       "      <td>632.0</td>\n",
       "      <td>2830.0</td>\n",
       "      <td>603.0</td>\n",
       "      <td>2.3333</td>\n",
       "      <td>164200.0</td>\n",
       "    </tr>\n",
       "    <tr>\n",
       "      <th>10</th>\n",
       "      <td>-118.24</td>\n",
       "      <td>33.98</td>\n",
       "      <td>45.0</td>\n",
       "      <td>972.0</td>\n",
       "      <td>249.0</td>\n",
       "      <td>1288.0</td>\n",
       "      <td>261.0</td>\n",
       "      <td>2.2054</td>\n",
       "      <td>125000.0</td>\n",
       "    </tr>\n",
       "    <tr>\n",
       "      <th>...</th>\n",
       "      <td>...</td>\n",
       "      <td>...</td>\n",
       "      <td>...</td>\n",
       "      <td>...</td>\n",
       "      <td>...</td>\n",
       "      <td>...</td>\n",
       "      <td>...</td>\n",
       "      <td>...</td>\n",
       "      <td>...</td>\n",
       "    </tr>\n",
       "    <tr>\n",
       "      <th>2992</th>\n",
       "      <td>-122.33</td>\n",
       "      <td>37.39</td>\n",
       "      <td>52.0</td>\n",
       "      <td>573.0</td>\n",
       "      <td>102.0</td>\n",
       "      <td>232.0</td>\n",
       "      <td>92.0</td>\n",
       "      <td>6.2263</td>\n",
       "      <td>500001.0</td>\n",
       "    </tr>\n",
       "    <tr>\n",
       "      <th>2993</th>\n",
       "      <td>-117.91</td>\n",
       "      <td>33.60</td>\n",
       "      <td>37.0</td>\n",
       "      <td>2088.0</td>\n",
       "      <td>510.0</td>\n",
       "      <td>673.0</td>\n",
       "      <td>390.0</td>\n",
       "      <td>5.1048</td>\n",
       "      <td>500001.0</td>\n",
       "    </tr>\n",
       "    <tr>\n",
       "      <th>2994</th>\n",
       "      <td>-117.93</td>\n",
       "      <td>33.86</td>\n",
       "      <td>35.0</td>\n",
       "      <td>931.0</td>\n",
       "      <td>181.0</td>\n",
       "      <td>516.0</td>\n",
       "      <td>174.0</td>\n",
       "      <td>5.5867</td>\n",
       "      <td>182500.0</td>\n",
       "    </tr>\n",
       "    <tr>\n",
       "      <th>2998</th>\n",
       "      <td>-117.12</td>\n",
       "      <td>34.10</td>\n",
       "      <td>40.0</td>\n",
       "      <td>96.0</td>\n",
       "      <td>14.0</td>\n",
       "      <td>46.0</td>\n",
       "      <td>14.0</td>\n",
       "      <td>3.2708</td>\n",
       "      <td>162500.0</td>\n",
       "    </tr>\n",
       "    <tr>\n",
       "      <th>2999</th>\n",
       "      <td>-119.63</td>\n",
       "      <td>34.42</td>\n",
       "      <td>42.0</td>\n",
       "      <td>1765.0</td>\n",
       "      <td>263.0</td>\n",
       "      <td>753.0</td>\n",
       "      <td>260.0</td>\n",
       "      <td>8.5608</td>\n",
       "      <td>500001.0</td>\n",
       "    </tr>\n",
       "  </tbody>\n",
       "</table>\n",
       "<p>1401 rows × 9 columns</p>\n",
       "</div>"
      ],
      "text/plain": [
       "      longitude  latitude  housing_median_age  total_rooms  total_bedrooms  \\\n",
       "1       -118.30     34.26                43.0       1510.0           310.0   \n",
       "5       -119.56     36.51                37.0       1018.0           213.0   \n",
       "6       -121.43     38.63                43.0       1009.0           225.0   \n",
       "9       -118.02     34.08                31.0       2402.0           632.0   \n",
       "10      -118.24     33.98                45.0        972.0           249.0   \n",
       "...         ...       ...                 ...          ...             ...   \n",
       "2992    -122.33     37.39                52.0        573.0           102.0   \n",
       "2993    -117.91     33.60                37.0       2088.0           510.0   \n",
       "2994    -117.93     33.86                35.0        931.0           181.0   \n",
       "2998    -117.12     34.10                40.0         96.0            14.0   \n",
       "2999    -119.63     34.42                42.0       1765.0           263.0   \n",
       "\n",
       "      population  households  median_income  median_house_value  \n",
       "1          809.0       277.0         3.5990            176500.0  \n",
       "5          663.0       204.0         1.6635             67000.0  \n",
       "6          604.0       218.0         1.6641             67000.0  \n",
       "9         2830.0       603.0         2.3333            164200.0  \n",
       "10        1288.0       261.0         2.2054            125000.0  \n",
       "...          ...         ...            ...                 ...  \n",
       "2992       232.0        92.0         6.2263            500001.0  \n",
       "2993       673.0       390.0         5.1048            500001.0  \n",
       "2994       516.0       174.0         5.5867            182500.0  \n",
       "2998        46.0        14.0         3.2708            162500.0  \n",
       "2999       753.0       260.0         8.5608            500001.0  \n",
       "\n",
       "[1401 rows x 9 columns]"
      ]
     },
     "execution_count": 18,
     "metadata": {},
     "output_type": "execute_result"
    }
   ],
   "source": [
    "df[df[\"housing_median_age\"] >30]"
   ]
  },
  {
   "cell_type": "code",
   "execution_count": 19,
   "id": "e4ea3c11",
   "metadata": {},
   "outputs": [
    {
     "data": {
      "text/plain": [
       "(3000, 9)"
      ]
     },
     "execution_count": 19,
     "metadata": {},
     "output_type": "execute_result"
    }
   ],
   "source": [
    "df.shape"
   ]
  },
  {
   "cell_type": "code",
   "execution_count": 20,
   "id": "0eeba548",
   "metadata": {},
   "outputs": [
    {
     "data": {
      "text/plain": [
       "longitude               -119.589200\n",
       "latitude                  35.635390\n",
       "housing_median_age        28.845333\n",
       "total_rooms             2599.578667\n",
       "total_bedrooms           529.950667\n",
       "population              1402.798667\n",
       "households               489.912000\n",
       "median_income              3.807272\n",
       "median_house_value    205846.275000\n",
       "dtype: float64"
      ]
     },
     "execution_count": 20,
     "metadata": {},
     "output_type": "execute_result"
    }
   ],
   "source": [
    "df.mean()"
   ]
  },
  {
   "cell_type": "code",
   "execution_count": 21,
   "id": "b52ca130",
   "metadata": {},
   "outputs": [
    {
     "data": {
      "text/plain": [
       "longitude                  1.994936\n",
       "latitude                   2.129670\n",
       "housing_median_age        12.555396\n",
       "total_rooms             2155.593332\n",
       "total_bedrooms           415.654368\n",
       "population              1030.543012\n",
       "households               365.422710\n",
       "median_income              1.854512\n",
       "median_house_value    113119.687470\n",
       "dtype: float64"
      ]
     },
     "execution_count": 21,
     "metadata": {},
     "output_type": "execute_result"
    }
   ],
   "source": [
    "df.std()"
   ]
  },
  {
   "cell_type": "code",
   "execution_count": 22,
   "id": "3775a233",
   "metadata": {},
   "outputs": [
    {
     "data": {
      "text/plain": [
       "longitude               -114.4900\n",
       "latitude                  41.9200\n",
       "housing_median_age        52.0000\n",
       "total_rooms            30450.0000\n",
       "total_bedrooms          5419.0000\n",
       "population             11935.0000\n",
       "households              4930.0000\n",
       "median_income             15.0001\n",
       "median_house_value    500001.0000\n",
       "dtype: float64"
      ]
     },
     "execution_count": 22,
     "metadata": {},
     "output_type": "execute_result"
    }
   ],
   "source": [
    "df.max()"
   ]
  },
  {
   "cell_type": "code",
   "execution_count": 23,
   "id": "08999c98",
   "metadata": {},
   "outputs": [
    {
     "data": {
      "text/html": [
       "<div>\n",
       "<style scoped>\n",
       "    .dataframe tbody tr th:only-of-type {\n",
       "        vertical-align: middle;\n",
       "    }\n",
       "\n",
       "    .dataframe tbody tr th {\n",
       "        vertical-align: top;\n",
       "    }\n",
       "\n",
       "    .dataframe thead th {\n",
       "        text-align: right;\n",
       "    }\n",
       "</style>\n",
       "<table border=\"1\" class=\"dataframe\">\n",
       "  <thead>\n",
       "    <tr style=\"text-align: right;\">\n",
       "      <th></th>\n",
       "      <th>longitude</th>\n",
       "      <th>latitude</th>\n",
       "      <th>housing_median_age</th>\n",
       "      <th>total_rooms</th>\n",
       "      <th>total_bedrooms</th>\n",
       "      <th>population</th>\n",
       "      <th>households</th>\n",
       "      <th>median_income</th>\n",
       "      <th>median_house_value</th>\n",
       "    </tr>\n",
       "  </thead>\n",
       "  <tbody>\n",
       "    <tr>\n",
       "      <th>count</th>\n",
       "      <td>3000.000000</td>\n",
       "      <td>3000.00000</td>\n",
       "      <td>3000.000000</td>\n",
       "      <td>3000.000000</td>\n",
       "      <td>3000.000000</td>\n",
       "      <td>3000.000000</td>\n",
       "      <td>3000.00000</td>\n",
       "      <td>3000.000000</td>\n",
       "      <td>3000.00000</td>\n",
       "    </tr>\n",
       "    <tr>\n",
       "      <th>mean</th>\n",
       "      <td>-119.589200</td>\n",
       "      <td>35.63539</td>\n",
       "      <td>28.845333</td>\n",
       "      <td>2599.578667</td>\n",
       "      <td>529.950667</td>\n",
       "      <td>1402.798667</td>\n",
       "      <td>489.91200</td>\n",
       "      <td>3.807272</td>\n",
       "      <td>205846.27500</td>\n",
       "    </tr>\n",
       "    <tr>\n",
       "      <th>std</th>\n",
       "      <td>1.994936</td>\n",
       "      <td>2.12967</td>\n",
       "      <td>12.555396</td>\n",
       "      <td>2155.593332</td>\n",
       "      <td>415.654368</td>\n",
       "      <td>1030.543012</td>\n",
       "      <td>365.42271</td>\n",
       "      <td>1.854512</td>\n",
       "      <td>113119.68747</td>\n",
       "    </tr>\n",
       "    <tr>\n",
       "      <th>min</th>\n",
       "      <td>-124.180000</td>\n",
       "      <td>32.56000</td>\n",
       "      <td>1.000000</td>\n",
       "      <td>6.000000</td>\n",
       "      <td>2.000000</td>\n",
       "      <td>5.000000</td>\n",
       "      <td>2.00000</td>\n",
       "      <td>0.499900</td>\n",
       "      <td>22500.00000</td>\n",
       "    </tr>\n",
       "    <tr>\n",
       "      <th>25%</th>\n",
       "      <td>-121.810000</td>\n",
       "      <td>33.93000</td>\n",
       "      <td>18.000000</td>\n",
       "      <td>1401.000000</td>\n",
       "      <td>291.000000</td>\n",
       "      <td>780.000000</td>\n",
       "      <td>273.00000</td>\n",
       "      <td>2.544000</td>\n",
       "      <td>121200.00000</td>\n",
       "    </tr>\n",
       "    <tr>\n",
       "      <th>50%</th>\n",
       "      <td>-118.485000</td>\n",
       "      <td>34.27000</td>\n",
       "      <td>29.000000</td>\n",
       "      <td>2106.000000</td>\n",
       "      <td>437.000000</td>\n",
       "      <td>1155.000000</td>\n",
       "      <td>409.50000</td>\n",
       "      <td>3.487150</td>\n",
       "      <td>177650.00000</td>\n",
       "    </tr>\n",
       "    <tr>\n",
       "      <th>75%</th>\n",
       "      <td>-118.020000</td>\n",
       "      <td>37.69000</td>\n",
       "      <td>37.000000</td>\n",
       "      <td>3129.000000</td>\n",
       "      <td>636.000000</td>\n",
       "      <td>1742.750000</td>\n",
       "      <td>597.25000</td>\n",
       "      <td>4.656475</td>\n",
       "      <td>263975.00000</td>\n",
       "    </tr>\n",
       "    <tr>\n",
       "      <th>max</th>\n",
       "      <td>-114.490000</td>\n",
       "      <td>41.92000</td>\n",
       "      <td>52.000000</td>\n",
       "      <td>30450.000000</td>\n",
       "      <td>5419.000000</td>\n",
       "      <td>11935.000000</td>\n",
       "      <td>4930.00000</td>\n",
       "      <td>15.000100</td>\n",
       "      <td>500001.00000</td>\n",
       "    </tr>\n",
       "  </tbody>\n",
       "</table>\n",
       "</div>"
      ],
      "text/plain": [
       "         longitude    latitude  housing_median_age   total_rooms  \\\n",
       "count  3000.000000  3000.00000         3000.000000   3000.000000   \n",
       "mean   -119.589200    35.63539           28.845333   2599.578667   \n",
       "std       1.994936     2.12967           12.555396   2155.593332   \n",
       "min    -124.180000    32.56000            1.000000      6.000000   \n",
       "25%    -121.810000    33.93000           18.000000   1401.000000   \n",
       "50%    -118.485000    34.27000           29.000000   2106.000000   \n",
       "75%    -118.020000    37.69000           37.000000   3129.000000   \n",
       "max    -114.490000    41.92000           52.000000  30450.000000   \n",
       "\n",
       "       total_bedrooms    population  households  median_income  \\\n",
       "count     3000.000000   3000.000000  3000.00000    3000.000000   \n",
       "mean       529.950667   1402.798667   489.91200       3.807272   \n",
       "std        415.654368   1030.543012   365.42271       1.854512   \n",
       "min          2.000000      5.000000     2.00000       0.499900   \n",
       "25%        291.000000    780.000000   273.00000       2.544000   \n",
       "50%        437.000000   1155.000000   409.50000       3.487150   \n",
       "75%        636.000000   1742.750000   597.25000       4.656475   \n",
       "max       5419.000000  11935.000000  4930.00000      15.000100   \n",
       "\n",
       "       median_house_value  \n",
       "count          3000.00000  \n",
       "mean         205846.27500  \n",
       "std          113119.68747  \n",
       "min           22500.00000  \n",
       "25%          121200.00000  \n",
       "50%          177650.00000  \n",
       "75%          263975.00000  \n",
       "max          500001.00000  "
      ]
     },
     "execution_count": 23,
     "metadata": {},
     "output_type": "execute_result"
    }
   ],
   "source": [
    "df.describe()"
   ]
  },
  {
   "cell_type": "code",
   "execution_count": null,
   "id": "64e9876c",
   "metadata": {},
   "outputs": [],
   "source": []
  },
  {
   "cell_type": "code",
   "execution_count": null,
   "id": "0ebc93a1-0f1a-4d97-b288-b084f95d5d7f",
   "metadata": {},
   "outputs": [],
   "source": []
  },
  {
   "cell_type": "code",
   "execution_count": null,
   "id": "a997e39a-9d14-416d-84cf-37496b8d1e56",
   "metadata": {},
   "outputs": [],
   "source": []
  },
  {
   "cell_type": "code",
   "execution_count": null,
   "id": "2a74fe40-7212-447c-92b4-29fb05601138",
   "metadata": {},
   "outputs": [],
   "source": []
  },
  {
   "cell_type": "code",
   "execution_count": null,
   "id": "cc1eb9a2-2ef2-4542-a328-494172ae64ae",
   "metadata": {},
   "outputs": [],
   "source": []
  },
  {
   "cell_type": "code",
   "execution_count": null,
   "id": "27c37aa9-93c1-4822-a8d0-ed5390a1fedc",
   "metadata": {},
   "outputs": [],
   "source": []
  },
  {
   "cell_type": "code",
   "execution_count": null,
   "id": "f2e8e500-57f7-42a7-8ec7-28bca566e909",
   "metadata": {},
   "outputs": [],
   "source": []
  },
  {
   "cell_type": "markdown",
   "id": "dac59395-28a2-4656-8db6-6bdd0d8ce860",
   "metadata": {},
   "source": []
  },
  {
   "cell_type": "markdown",
   "id": "2ac02099-228c-466d-bf95-4291b63c1994",
   "metadata": {},
   "source": []
  },
  {
   "cell_type": "code",
   "execution_count": 11,
   "id": "d8e4fb12-f5ce-4008-bf9d-1ef64ceec570",
   "metadata": {},
   "outputs": [
    {
     "name": "stdout",
     "output_type": "stream",
     "text": [
      "私は kat です。 totigi 出身です。\n"
     ]
    }
   ],
   "source": [
    "name = \"kat\"\n",
    "place = \"totigi\"\n",
    "print (\"私は\",name,\"です。\",place,\"出身です。\")"
   ]
  },
  {
   "cell_type": "code",
   "execution_count": 14,
   "id": "227e8fca-ee66-4222-9ff3-fd3f0e53fc27",
   "metadata": {},
   "outputs": [
    {
     "data": {
      "text/plain": [
       "'私はkatです。出身はtotigiです。'"
      ]
     },
     "execution_count": 14,
     "metadata": {},
     "output_type": "execute_result"
    }
   ],
   "source": [
    "\"私は{}です。出身は{}です。\".format(name,place)"
   ]
  },
  {
   "cell_type": "code",
   "execution_count": 15,
   "id": "f948ebe0-6bba-4590-afb8-1bf1dc9930f5",
   "metadata": {},
   "outputs": [
    {
     "data": {
      "text/plain": [
       "'私はkatです。出身はtotigiです。'"
      ]
     },
     "execution_count": 15,
     "metadata": {},
     "output_type": "execute_result"
    }
   ],
   "source": [
    "f\"私は{name}です。出身は{place}です。\""
   ]
  },
  {
   "cell_type": "markdown",
   "id": "67166707-7b74-4ead-833f-cc056882ff8f",
   "metadata": {},
   "source": [
    "fストリングス　{}内に変数直接記入できる"
   ]
  },
  {
   "cell_type": "markdown",
   "id": "9c72b0bf-5df4-45ee-b5f1-a87216282c7c",
   "metadata": {},
   "source": [
    "## 文字列を句読点で改行\n",
    "エスケープシーケンス\\\n",
    "\"\\n\"で改行"
   ]
  },
  {
   "cell_type": "code",
   "execution_count": 17,
   "id": "97cdb7e3-ab27-445b-859f-c8a4e2d07807",
   "metadata": {},
   "outputs": [
    {
     "name": "stdout",
     "output_type": "stream",
     "text": [
      "いつもの帰り道とは違うルートで帰ってみようかな。\n",
      "迷子にならないか心配だけど。\n"
     ]
    }
   ],
   "source": [
    "print(\"いつもの帰り道とは違うルートで帰ってみようかな。\\n迷子にならないか心配だけど。\")"
   ]
  },
  {
   "cell_type": "code",
   "execution_count": 20,
   "id": "d52ff8bf-f368-4646-b04e-739f43f3a1dd",
   "metadata": {},
   "outputs": [
    {
     "name": "stdout",
     "output_type": "stream",
     "text": [
      "16,10,16.000000\n"
     ]
    }
   ],
   "source": [
    "print(\"%d,%x,%f\"%(16,16,16))"
   ]
  },
  {
   "cell_type": "code",
   "execution_count": 23,
   "id": "01611f03-a2fb-4e67-8f97-8446da0cdeb2",
   "metadata": {},
   "outputs": [
    {
     "data": {
      "text/plain": [
       "'HELLO'"
      ]
     },
     "execution_count": 23,
     "metadata": {},
     "output_type": "execute_result"
    }
   ],
   "source": [
    "\"hello\".upper()\n"
   ]
  },
  {
   "cell_type": "code",
   "execution_count": 24,
   "id": "9c64926e-b35a-4f47-9d8c-74339183ffbe",
   "metadata": {},
   "outputs": [
    {
     "data": {
      "text/plain": [
       "'world'"
      ]
     },
     "execution_count": 24,
     "metadata": {},
     "output_type": "execute_result"
    }
   ],
   "source": [
    "\"WORLD\".lower()"
   ]
  },
  {
   "cell_type": "markdown",
   "id": "d2ff549c-2a2f-4a79-83cd-aa74e19883ba",
   "metadata": {},
   "source": [
    "### 文字列の分割"
   ]
  },
  {
   "cell_type": "code",
   "execution_count": 25,
   "id": "625df7cf-5b48-47d3-bd1f-6af200bfa855",
   "metadata": {},
   "outputs": [
    {
     "name": "stdout",
     "output_type": "stream",
     "text": [
      "こんにちは。\n",
      "私はAIのロボットです。\n"
     ]
    }
   ],
   "source": [
    "message=\"こんにちは。\\n私はAIのロボットです。\"\n",
    "print(message)"
   ]
  },
  {
   "cell_type": "code",
   "execution_count": 30,
   "id": "0422449a-3bd0-4eb5-9adc-2bc5ec3a5ffd",
   "metadata": {},
   "outputs": [
    {
     "data": {
      "text/plain": [
       "['こんにちは。', '私はAIのロボットです。']"
      ]
     },
     "execution_count": 30,
     "metadata": {},
     "output_type": "execute_result"
    }
   ],
   "source": [
    "messages = message.split(\"\\n\")\n",
    "messages"
   ]
  },
  {
   "cell_type": "markdown",
   "id": "817d1827-32b3-4894-99e7-9d1e8bc67c83",
   "metadata": {},
   "source": [
    "#### 文字列の結合"
   ]
  },
  {
   "cell_type": "code",
   "execution_count": 32,
   "id": "d3d00618-1311-4f66-bac7-bac49cc5f71f",
   "metadata": {},
   "outputs": [
    {
     "data": {
      "text/plain": [
       "'こんにちは。xxx私はAIのロボットです。'"
      ]
     },
     "execution_count": 32,
     "metadata": {},
     "output_type": "execute_result"
    }
   ],
   "source": [
    "\"xxx\".join(messages)"
   ]
  },
  {
   "cell_type": "markdown",
   "id": "fc426ede-0a30-4626-b702-61bc94c6fb82",
   "metadata": {},
   "source": [
    "#### 空白除去 .strip()"
   ]
  },
  {
   "cell_type": "code",
   "execution_count": 66,
   "id": "cf0b5803-942c-4ef9-9c44-9d7c0ae36b9c",
   "metadata": {},
   "outputs": [
    {
     "name": "stdout",
     "output_type": "stream",
     "text": [
      "いつも個々のケーキはおいしい。\n"
     ]
    }
   ],
   "source": [
    "message=\"　いつも個々のケーキはおいしい。　\"\n",
    "print(message.strip())"
   ]
  },
  {
   "cell_type": "markdown",
   "id": "ca0ef9e7-0e67-4cf5-93c5-2c37af24d043",
   "metadata": {},
   "source": [
    "#### 10.文字列の置換 .replace"
   ]
  },
  {
   "cell_type": "code",
   "execution_count": 69,
   "id": "4ce495ac-9d5d-417e-8da7-b96f2d3391f0",
   "metadata": {},
   "outputs": [
    {
     "data": {
      "text/plain": [
       "'今日はameですね。'"
      ]
     },
     "execution_count": 69,
     "metadata": {},
     "output_type": "execute_result"
    }
   ],
   "source": [
    "message=\"今日は晴れですね。\".replace(\"晴れ\",\"ame\")\n",
    "message"
   ]
  },
  {
   "cell_type": "markdown",
   "id": "7ce65618-bc5a-40f8-bf04-b0e55c3ac6e5",
   "metadata": {},
   "source": [
    "#### 11.文字列検索"
   ]
  },
  {
   "cell_type": "code",
   "execution_count": 1,
   "id": "e8a301a3-de76-4b9c-802c-efe166c63aed",
   "metadata": {},
   "outputs": [
    {
     "data": {
      "text/plain": [
       "6"
      ]
     },
     "execution_count": 1,
     "metadata": {},
     "output_type": "execute_result"
    }
   ],
   "source": [
    "message=\"今日はとても夜空がきれいだ\"\n",
    "message.find(\"夜空\")"
   ]
  },
  {
   "cell_type": "markdown",
   "id": "d4ec4f6c-648a-4b9f-b8a8-69efb20e8741",
   "metadata": {},
   "source": [
    "#### 12.型変換\n",
    "文字列型に変換"
   ]
  },
  {
   "cell_type": "code",
   "execution_count": 3,
   "id": "ad1acf7e-2ca9-40a0-a9e4-fa6e152851d5",
   "metadata": {},
   "outputs": [
    {
     "data": {
      "text/plain": [
       "'1'"
      ]
     },
     "execution_count": 3,
     "metadata": {},
     "output_type": "execute_result"
    }
   ],
   "source": [
    "x=1\n",
    "str(x)"
   ]
  },
  {
   "cell_type": "markdown",
   "id": "aa7901ed-8941-4bfb-b3ce-fa5bef3d1f5e",
   "metadata": {},
   "source": [
    "#### 13.包含関係\n",
    "文字列が含まれているか"
   ]
  },
  {
   "cell_type": "code",
   "execution_count": 4,
   "id": "34c2d79e-65f7-480c-ba80-68442c53c42f",
   "metadata": {},
   "outputs": [
    {
     "data": {
      "text/plain": [
       "True"
      ]
     },
     "execution_count": 4,
     "metadata": {},
     "output_type": "execute_result"
    }
   ],
   "source": [
    "kensaku=\"sba\"\n",
    "mojiretsu=\"gasba\"\n",
    "kensaku in mojiretsu"
   ]
  },
  {
   "cell_type": "code",
   "execution_count": 5,
   "id": "18de94bd-d57f-4e2c-ae8d-1f71f9595f9b",
   "metadata": {},
   "outputs": [
    {
     "data": {
      "text/plain": [
       "True"
      ]
     },
     "execution_count": 5,
     "metadata": {},
     "output_type": "execute_result"
    }
   ],
   "source": [
    "a , b = \"sba\" , \"gasba\"\n",
    "a in b"
   ]
  },
  {
   "cell_type": "markdown",
   "id": "b918aec4-de6f-4d8a-8f18-5bb0f9a25a73",
   "metadata": {},
   "source": [
    "# リスト\n",
    "#### 14.特定の値を抽出"
   ]
  },
  {
   "cell_type": "code",
   "execution_count": 10,
   "id": "a2ab6fd3-2c5c-4c98-a7b3-f2a48e634cf6",
   "metadata": {},
   "outputs": [
    {
     "data": {
      "text/plain": [
       "3"
      ]
     },
     "execution_count": 10,
     "metadata": {},
     "output_type": "execute_result"
    }
   ],
   "source": [
    "numbers = [0,3,8,-4,9,1]\n",
    "numbers[1]"
   ]
  },
  {
   "cell_type": "code",
   "execution_count": 11,
   "id": "82a19ec6-3215-4c60-b961-b93e43b1c76f",
   "metadata": {},
   "outputs": [
    {
     "data": {
      "text/plain": [
       "1"
      ]
     },
     "execution_count": 11,
     "metadata": {},
     "output_type": "execute_result"
    }
   ],
   "source": [
    "numbers[-1]"
   ]
  },
  {
   "cell_type": "code",
   "execution_count": 12,
   "id": "1deec1be-9716-43f2-b421-2ed442df3b9b",
   "metadata": {},
   "outputs": [
    {
     "data": {
      "text/plain": [
       "[0, 3, 8, -4, 9, 1, 2]"
      ]
     },
     "execution_count": 12,
     "metadata": {},
     "output_type": "execute_result"
    }
   ],
   "source": [
    "numbers.append(2)\n",
    "numbers"
   ]
  },
  {
   "cell_type": "markdown",
   "id": "50efbcbe-9f6a-4477-a843-340e0554ef48",
   "metadata": {},
   "source": [
    "#### 15.特定の値を挿入\n",
    ".insert(場所,数値)"
   ]
  },
  {
   "cell_type": "code",
   "execution_count": 14,
   "id": "78a27860-022b-4746-ad66-6ed42ae47859",
   "metadata": {},
   "outputs": [],
   "source": [
    "numbers.insert(0,5)"
   ]
  },
  {
   "cell_type": "code",
   "execution_count": 15,
   "id": "3ed7a0ae-6c10-4991-9a69-7166411b1212",
   "metadata": {},
   "outputs": [
    {
     "data": {
      "text/plain": [
       "[5, 0, 3, 8, -4, 9, 1, 2]"
      ]
     },
     "execution_count": 15,
     "metadata": {},
     "output_type": "execute_result"
    }
   ],
   "source": [
    "numbers"
   ]
  },
  {
   "cell_type": "code",
   "execution_count": 16,
   "id": "56e1dec7-c77e-49b5-b3b0-238962dd997b",
   "metadata": {},
   "outputs": [],
   "source": [
    "numbers.insert(-2,-3)"
   ]
  },
  {
   "cell_type": "code",
   "execution_count": 17,
   "id": "b09092f2-3214-43a2-9481-f905dd70dae5",
   "metadata": {},
   "outputs": [
    {
     "data": {
      "text/plain": [
       "[5, 0, 3, 8, -4, 9, -3, 1, 2]"
      ]
     },
     "execution_count": 17,
     "metadata": {},
     "output_type": "execute_result"
    }
   ],
   "source": [
    "numbers"
   ]
  },
  {
   "cell_type": "markdown",
   "id": "9ce414ba-a648-4048-9106-38ffdb9d4ca6",
   "metadata": {},
   "source": [
    "#### 16.特定の値を削除\n",
    "特定の値を削除する場合：remove\\\n",
    "場所を指定して削除：pop"
   ]
  },
  {
   "cell_type": "code",
   "execution_count": 18,
   "id": "bde962a0-59ad-4c8a-a45f-01a1870594ca",
   "metadata": {},
   "outputs": [
    {
     "data": {
      "text/plain": [
       "[0, 3, 8, -4, 9, -3, 1, 2]"
      ]
     },
     "execution_count": 18,
     "metadata": {},
     "output_type": "execute_result"
    }
   ],
   "source": [
    "numbers.remove(5)\n",
    "numbers"
   ]
  },
  {
   "cell_type": "code",
   "execution_count": 19,
   "id": "6b0bd8c2-5668-4947-bb81-4c6ff038af40",
   "metadata": {},
   "outputs": [
    {
     "data": {
      "text/plain": [
       "-3"
      ]
     },
     "execution_count": 19,
     "metadata": {},
     "output_type": "execute_result"
    }
   ],
   "source": [
    "numbers.pop(-3)"
   ]
  },
  {
   "cell_type": "code",
   "execution_count": 20,
   "id": "606813d5-1fed-4f35-857a-677d32db3ecc",
   "metadata": {},
   "outputs": [
    {
     "data": {
      "text/plain": [
       "[0, 3, 8, -4, 9, 1, 2]"
      ]
     },
     "execution_count": 20,
     "metadata": {},
     "output_type": "execute_result"
    }
   ],
   "source": [
    "numbers"
   ]
  },
  {
   "cell_type": "markdown",
   "id": "7cde0a4a-b51e-4da8-b7b7-8270ee564b60",
   "metadata": {},
   "source": [
    "#### 17.フィルター"
   ]
  },
  {
   "cell_type": "code",
   "execution_count": 21,
   "id": "d2a11297-399c-49a2-b242-5fea9e91b9e5",
   "metadata": {},
   "outputs": [],
   "source": [
    "def isEven(number):\n",
    "    if number % 2 == 0:\n",
    "        print(f\"This number, {number} is even!\")\n",
    "        return True\n",
    "    else:\n",
    "        print(f'This number, {number} is odd!')\n",
    "        return False"
   ]
  },
  {
   "cell_type": "code",
   "execution_count": 22,
   "id": "748d346d-18bf-4a61-a5ea-369fdce7e425",
   "metadata": {},
   "outputs": [
    {
     "name": "stdout",
     "output_type": "stream",
     "text": [
      "This number, 2 is even!\n"
     ]
    },
    {
     "data": {
      "text/plain": [
       "True"
      ]
     },
     "execution_count": 22,
     "metadata": {},
     "output_type": "execute_result"
    }
   ],
   "source": [
    "isEven(2)"
   ]
  },
  {
   "cell_type": "code",
   "execution_count": 23,
   "id": "58b4f161-f7d8-4c26-8fe4-1a9261b175d9",
   "metadata": {},
   "outputs": [
    {
     "name": "stdout",
     "output_type": "stream",
     "text": [
      "This number, 0 is even!\n",
      "This number, 3 is odd!\n",
      "This number, 8 is even!\n",
      "This number, -4 is even!\n",
      "This number, 9 is odd!\n",
      "This number, 1 is odd!\n",
      "This number, 2 is even!\n"
     ]
    },
    {
     "data": {
      "text/plain": [
       "[0, 8, -4, 2]"
      ]
     },
     "execution_count": 23,
     "metadata": {},
     "output_type": "execute_result"
    }
   ],
   "source": [
    "list(filter(isEven, numbers))"
   ]
  },
  {
   "cell_type": "markdown",
   "id": "d4b13a59-5c20-4bd7-b9a2-69e85d2501ff",
   "metadata": {},
   "source": [
    "#### 18.index"
   ]
  },
  {
   "cell_type": "code",
   "execution_count": 24,
   "id": "038fab93-8c6e-4ce1-a12e-4010b94f3f5c",
   "metadata": {},
   "outputs": [
    {
     "data": {
      "text/plain": [
       "3"
      ]
     },
     "execution_count": 24,
     "metadata": {},
     "output_type": "execute_result"
    }
   ],
   "source": [
    "numbers.index(-4)"
   ]
  },
  {
   "cell_type": "markdown",
   "id": "003d9c44-1999-4a58-85aa-8da3a139d298",
   "metadata": {},
   "source": [
    "#### 19.ソート"
   ]
  },
  {
   "cell_type": "code",
   "execution_count": 25,
   "id": "cd69b676-a2dd-4375-aa36-e37c302f7c7b",
   "metadata": {},
   "outputs": [
    {
     "data": {
      "text/plain": [
       "[-4, 0, 1, 2, 3, 8, 9]"
      ]
     },
     "execution_count": 25,
     "metadata": {},
     "output_type": "execute_result"
    }
   ],
   "source": [
    "numbers.sort()\n",
    "numbers"
   ]
  },
  {
   "cell_type": "code",
   "execution_count": 26,
   "id": "b1ced204-c9e3-400f-84b7-26b8f4af7127",
   "metadata": {},
   "outputs": [
    {
     "data": {
      "text/plain": [
       "[9, 8, 3, 2, 1, 0, -4]"
      ]
     },
     "execution_count": 26,
     "metadata": {},
     "output_type": "execute_result"
    }
   ],
   "source": [
    "numbers.sort(reverse=True)\n",
    "numbers"
   ]
  },
  {
   "cell_type": "markdown",
   "id": "4b0257f3-7d98-4774-835d-5beff514c1e5",
   "metadata": {},
   "source": [
    "# 辞書\n",
    "#### 20.要素の削除"
   ]
  },
  {
   "cell_type": "code",
   "execution_count": null,
   "id": "0ce3fa87-996d-4012-b711-acb548903907",
   "metadata": {},
   "outputs": [],
   "source": []
  }
 ],
 "metadata": {
  "kernelspec": {
   "display_name": "Python 3 (ipykernel)",
   "language": "python",
   "name": "python3"
  },
  "language_info": {
   "codemirror_mode": {
    "name": "ipython",
    "version": 3
   },
   "file_extension": ".py",
   "mimetype": "text/x-python",
   "name": "python",
   "nbconvert_exporter": "python",
   "pygments_lexer": "ipython3",
   "version": "3.8.12"
  }
 },
 "nbformat": 4,
 "nbformat_minor": 5
}

{
 "cells": [
  {
   "cell_type": "markdown",
   "id": "cba37fe0",
   "metadata": {},
   "source": [
    "爆速で５つのpythonwebアプリを開発"
   ]
  },
  {
   "cell_type": "markdown",
   "id": "eaad1343",
   "metadata": {},
   "source": [
    "# 【webフレームワーク】\n",
    "python代表的なwebフレームワーク\\\n",
    "- diango：本格的\n",
    "- flask：簡単な\n",
    "- fastAPI：高速なAPI構築\n",
    "- Dash：可視化に特化\n",
    "- Streamlit\n",
    "\n",
    "### Streamlitの特徴\n",
    "- 機械学習やデータサイエンスに最適\n",
    "　HTML/Cssコード不要"
   ]
  },
  {
   "cell_type": "code",
   "execution_count": null,
   "id": "e5fb83d6",
   "metadata": {
    "tags": []
   },
   "outputs": [],
   "source": []
  },
  {
   "cell_type": "code",
   "execution_count": null,
   "id": "6add38f4",
   "metadata": {},
   "outputs": [],
   "source": []
  },
  {
   "cell_type": "code",
   "execution_count": 4,
   "id": "2cae03c7",
   "metadata": {},
   "outputs": [
    {
     "name": "stderr",
     "output_type": "stream",
     "text": [
      "UsageError: Line magic function `%` not found.\n"
     ]
    }
   ],
   "source": [
    "% streamlit run main.py"
   ]
  },
  {
   "cell_type": "code",
   "execution_count": null,
   "id": "dc23888e-feba-4ae2-b462-a1ec449bec1a",
   "metadata": {},
   "outputs": [],
   "source": []
  }
 ],
 "metadata": {
  "kernelspec": {
   "display_name": "Python 3 (ipykernel)",
   "language": "python",
   "name": "python3"
  },
  "language_info": {
   "codemirror_mode": {
    "name": "ipython",
    "version": 3
   },
   "file_extension": ".py",
   "mimetype": "text/x-python",
   "name": "python",
   "nbconvert_exporter": "python",
   "pygments_lexer": "ipython3",
   "version": "3.8.12"
  }
 },
 "nbformat": 4,
 "nbformat_minor": 5
}
